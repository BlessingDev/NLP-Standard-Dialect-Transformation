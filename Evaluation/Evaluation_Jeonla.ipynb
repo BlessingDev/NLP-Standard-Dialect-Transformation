{
 "cells": [
  {
   "cell_type": "markdown",
   "metadata": {},
   "source": [
    "# 전라 방언 결과 분석\n",
    "\n",
    "전라 방언에 대한 토큰화 실험 결과를 모아서 분석하는 노트북"
   ]
  },
  {
   "cell_type": "code",
   "execution_count": null,
   "metadata": {
    "vscode": {
     "languageId": "plaintext"
    }
   },
   "outputs": [],
   "source": []
  }
 ],
 "metadata": {
  "language_info": {
   "name": "python"
  },
  "orig_nbformat": 4
 },
 "nbformat": 4,
 "nbformat_minor": 2
}
